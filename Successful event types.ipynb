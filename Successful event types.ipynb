{
 "cells": [
  {
   "cell_type": "markdown",
   "id": "03cc80f6",
   "metadata": {},
   "source": [
    "# <font color=black>Training Machine Learning Models to Classify Which are the types of events that are successful </font>"
   ]
  },
  {
   "cell_type": "code",
   "execution_count": 297,
   "id": "434f8288",
   "metadata": {
    "scrolled": true
   },
   "outputs": [
    {
     "name": "stdout",
     "output_type": "stream",
     "text": [
      "[[ 2 30]\n",
      " [ 8 32]\n",
      " [ 7 45]\n",
      " ...\n",
      " [ 9 36]\n",
      " [ 8 38]\n",
      " [ 1 43]]\n",
      "['Social' 'Technical' 'Technical' 'Others' 'Technical' 'Social' 'Others'\n",
      " 'Social' 'Social' 'Others' 'Others' 'Others' 'Others' 'Social' 'Social'\n",
      " 'Others' 'Technical' 'Others' 'Others' 'Social' 'Social' 'Others'\n",
      " 'Technical' 'Social' 'Technical' 'Others' 'Others' 'Technical'\n",
      " 'Technical' 'Others' 'Social' 'Technical' 'Technical' 'Technical'\n",
      " 'Social' 'Others' 'Social' 'Social' 'Technical' 'Others' 'Others'\n",
      " 'Technical' 'Social' 'Social' 'Social' 'Social' 'Technical' 'Technical'\n",
      " 'Technical' 'Technical' 'Others' 'Others' 'Others' 'Technical' 'Others'\n",
      " 'Technical' 'Others' 'Social' 'Others' 'Others' 'Others' 'Social'\n",
      " 'Others' 'Others' 'Technical' 'Others' 'Social' 'Others' 'Social'\n",
      " 'Social' 'Social' 'Technical' 'Others' 'Social' 'Social' 'Technical'\n",
      " 'Social' 'Technical' 'Technical' 'Technical' 'Social' 'Technical'\n",
      " 'Social' 'Others' 'Technical' 'Others' 'Others' 'Social' 'Social'\n",
      " 'Others' 'Others' 'Social' 'Others' 'Others' 'Others' 'Technical'\n",
      " 'Technical' 'Social' 'Technical' 'Social' 'Technical' 'Technical'\n",
      " 'Technical' 'Others' 'Social' 'Social' 'Others' 'Others' 'Social'\n",
      " 'Technical' 'Technical' 'Technical' 'Others' 'Technical' 'Social'\n",
      " 'Technical' 'Others' 'Others' 'Social' 'Social' 'Technical' 'Technical'\n",
      " 'Technical' 'Others' 'Social' 'Others' 'Technical' 'Others' 'Others'\n",
      " 'Social' 'Social' 'Others' 'Others' 'Social' 'Others' 'Social' 'Social'\n",
      " 'Social' 'Social' 'Others' 'Technical' 'Technical' 'Others' 'Technical'\n",
      " 'Technical' 'Social' 'Social' 'Technical' 'Technical' 'Technical'\n",
      " 'Technical' 'Technical' 'Others' 'Technical' 'Others' 'Others'\n",
      " 'Technical' 'Others' 'Others' 'Technical' 'Others' 'Technical' 'Social'\n",
      " 'Others' 'Others' 'Social' 'Others' 'Social' 'Technical' 'Social'\n",
      " 'Technical' 'Social' 'Social' 'Social' 'Technical' 'Others' 'Social'\n",
      " 'Social' 'Social' 'Others' 'Technical' 'Technical' 'Technical' 'Others'\n",
      " 'Technical' 'Social' 'Others' 'Others' 'Others' 'Social' 'Technical'\n",
      " 'Others' 'Technical' 'Technical' 'Technical' 'Technical' 'Others'\n",
      " 'Others' 'Others' 'Technical' 'Social' 'Social' 'Technical' 'Social'\n",
      " 'Social' 'Others' 'Others' 'Others' 'Others' 'Social' 'Others' 'Others'\n",
      " 'Social' 'Others' 'Social' 'Others' 'Others' 'Social' 'Technical'\n",
      " 'Technical' 'Technical' 'Technical' 'Social' 'Technical' 'Technical'\n",
      " 'Social' 'Others' 'Technical' 'Social' 'Social' 'Social' 'Others'\n",
      " 'Social' 'Social' 'Social' 'Others' 'Others' 'Social' 'Technical'\n",
      " 'Others' 'Social' 'Others' 'Technical' 'Technical' 'Others' 'Others'\n",
      " 'Social' 'Others' 'Others' 'Social' 'Social' 'Technical' 'Social'\n",
      " 'Technical' 'Technical' 'Technical' 'Social' 'Others' 'Others'\n",
      " 'Technical' 'Others' 'Social' 'Others' 'Technical' 'Others' 'Others'\n",
      " 'Others' 'Technical' 'Social' 'Social' 'Technical' 'Others' 'Others'\n",
      " 'Others' 'Social' 'Social' 'Technical' 'Technical' 'Others' 'Social'\n",
      " 'Technical' 'Technical' 'Technical' 'Technical' 'Social' 'Technical'\n",
      " 'Others' 'Technical' 'Technical' 'Others' 'Others' 'Technical' 'Social'\n",
      " 'Technical' 'Technical' 'Technical' 'Technical' 'Social' 'Others'\n",
      " 'Social' 'Technical' 'Others' 'Social' 'Social' 'Technical' 'Others'\n",
      " 'Others' 'Social' 'Technical' 'Social' 'Technical' 'Others' 'Others'\n",
      " 'Social' 'Technical' 'Others' 'Others' 'Technical' 'Social' 'Technical'\n",
      " 'Social' 'Technical' 'Social' 'Others' 'Technical' 'Technical'\n",
      " 'Technical' 'Others' 'Technical' 'Others' 'Technical' 'Others' 'Social'\n",
      " 'Social' 'Technical' 'Technical' 'Social' 'Social' 'Social' 'Others'\n",
      " 'Social' 'Others' 'Technical' 'Others' 'Technical' 'Others' 'Others'\n",
      " 'Others' 'Others' 'Technical' 'Technical' 'Technical' 'Technical'\n",
      " 'Technical' 'Social' 'Social' 'Social' 'Others' 'Technical' 'Technical'\n",
      " 'Technical' 'Others' 'Social' 'Others' 'Social' 'Social' 'Technical'\n",
      " 'Social' 'Social' 'Technical' 'Others' 'Social' 'Technical' 'Others'\n",
      " 'Technical' 'Others' 'Social' 'Social' 'Technical' 'Social' 'Technical'\n",
      " 'Social' 'Social' 'Technical' 'Others' 'Others' 'Technical' 'Others'\n",
      " 'Technical' 'Social' 'Technical' 'Technical' 'Social' 'Social' 'Social'\n",
      " 'Technical' 'Others' 'Technical' 'Others' 'Social' 'Others' 'Social'\n",
      " 'Social' 'Technical' 'Others' 'Social' 'Technical' 'Social' 'Others'\n",
      " 'Others' 'Others' 'Others' 'Others' 'Social' 'Social' 'Others' 'Others'\n",
      " 'Technical' 'Others' 'Social' 'Others' 'Technical' 'Others' 'Social'\n",
      " 'Others' 'Social' 'Social' 'Others' 'Technical' 'Social' 'Social'\n",
      " 'Technical' 'Social' 'Technical' 'Social' 'Others' 'Others' 'Technical'\n",
      " 'Social' 'Social' 'Technical' 'Social' 'Technical' 'Others' 'Others'\n",
      " 'Technical' 'Others' 'Social' 'Others' 'Technical' 'Others' 'Social'\n",
      " 'Technical' 'Technical' 'Technical' 'Social' 'Others' 'Social' 'Social'\n",
      " 'Social' 'Others' 'Social' 'Social' 'Social' 'Social' 'Technical'\n",
      " 'Social' 'Technical' 'Others' 'Others' 'Social' 'Technical' 'Others'\n",
      " 'Social' 'Social' 'Technical' 'Others' 'Social' 'Technical' 'Technical'\n",
      " 'Others' 'Others' 'Technical' 'Others' 'Technical' 'Technical' 'Social'\n",
      " 'Technical' 'Others' 'Technical' 'Social' 'Social' 'Others' 'Social'\n",
      " 'Others' 'Others' 'Social' 'Technical' 'Others' 'Others' 'Technical'\n",
      " 'Social' 'Others' 'Others' 'Social' 'Technical' 'Others' 'Technical'\n",
      " 'Technical' 'Others' 'Social' 'Others' 'Social' 'Social' 'Technical'\n",
      " 'Social' 'Social' 'Social' 'Others' 'Social' 'Social' 'Others' 'Social'\n",
      " 'Technical' 'Social' 'Technical' 'Social' 'Others' 'Social' 'Social'\n",
      " 'Technical' 'Others' 'Social' 'Others' 'Social' 'Others' 'Others'\n",
      " 'Social' 'Others' 'Others' 'Others' 'Social' 'Technical' 'Technical'\n",
      " 'Others' 'Technical' 'Technical' 'Technical' 'Others' 'Social'\n",
      " 'Technical' 'Technical' 'Others' 'Social' 'Technical' 'Technical'\n",
      " 'Social' 'Others' 'Others' 'Social' 'Others' 'Social' 'Technical'\n",
      " 'Others' 'Others' 'Others' 'Technical' 'Technical' 'Technical' 'Others'\n",
      " 'Others' 'Technical' 'Technical' 'Technical' 'Technical' 'Others'\n",
      " 'Others' 'Others' 'Technical' 'Technical' 'Social' 'Technical' 'Others'\n",
      " 'Others' 'Technical' 'Social' 'Social' 'Social' 'Technical' 'Others'\n",
      " 'Technical' 'Social' 'Social' 'Social' 'Technical' 'Others' 'Technical'\n",
      " 'Others' 'Technical' 'Social' 'Others' 'Others' 'Technical' 'Social'\n",
      " 'Social' 'Technical' 'Social' 'Technical' 'Others' 'Others' 'Social'\n",
      " 'Technical' 'Technical' 'Others' 'Technical' 'Others' 'Social' 'Social'\n",
      " 'Social' 'Social' 'Others' 'Social' 'Technical' 'Social' 'Social'\n",
      " 'Technical' 'Technical' 'Technical' 'Others' 'Technical' 'Social'\n",
      " 'Others' 'Technical' 'Others' 'Social' 'Others' 'Others' 'Others'\n",
      " 'Technical' 'Technical' 'Technical' 'Others' 'Others' 'Social' 'Social'\n",
      " 'Social' 'Social' 'Others' 'Technical' 'Social' 'Others' 'Others'\n",
      " 'Social' 'Technical' 'Technical' 'Social' 'Technical' 'Social' 'Others'\n",
      " 'Social' 'Social' 'Social' 'Technical' 'Technical' 'Social' 'Technical'\n",
      " 'Social' 'Others' 'Others' 'Others' 'Social' 'Technical' 'Social'\n",
      " 'Others' 'Social' 'Social' 'Technical' 'Technical' 'Technical' 'Others'\n",
      " 'Social' 'Social' 'Others' 'Social' 'Social' 'Social' 'Technical'\n",
      " 'Others' 'Social' 'Technical' 'Technical' 'Others' 'Social' 'Others'\n",
      " 'Technical' 'Social' 'Technical' 'Others' 'Social' 'Technical' 'Others'\n",
      " 'Technical' 'Technical' 'Others' 'Others' 'Social' 'Technical'\n",
      " 'Technical' 'Technical' 'Others' 'Social' 'Others' 'Social' 'Others'\n",
      " 'Others' 'Social' 'Social' 'Technical' 'Others' 'Social' 'Social'\n",
      " 'Social' 'Others' 'Social' 'Social' 'Technical' 'Technical' 'Technical'\n",
      " 'Technical' 'Others' 'Technical' 'Others' 'Social' 'Others' 'Technical'\n",
      " 'Others' 'Others' 'Technical' 'Others' 'Technical' 'Technical'\n",
      " 'Technical' 'Others' 'Others' 'Others' 'Technical' 'Others' 'Social'\n",
      " 'Technical' 'Technical' 'Others' 'Others' 'Social' 'Technical'\n",
      " 'Technical' 'Others' 'Technical' 'Technical' 'Social' 'Technical'\n",
      " 'Others' 'Technical' 'Others' 'Social' 'Technical' 'Technical' 'Others'\n",
      " 'Social' 'Social' 'Technical' 'Social' 'Others' 'Others' 'Technical'\n",
      " 'Technical' 'Technical' 'Technical' 'Social' 'Others' 'Social' 'Others'\n",
      " 'Social' 'Others' 'Technical' 'Others' 'Social' 'Technical' 'Others'\n",
      " 'Social' 'Others' 'Others' 'Technical' 'Others' 'Social' 'Others'\n",
      " 'Social' 'Others' 'Technical' 'Technical' 'Social' 'Social' 'Social'\n",
      " 'Social' 'Technical' 'Social' 'Social' 'Technical' 'Social' 'Others'\n",
      " 'Social' 'Technical' 'Social' 'Technical' 'Technical' 'Technical'\n",
      " 'Others' 'Technical' 'Technical' 'Others' 'Technical' 'Others'\n",
      " 'Technical' 'Others' 'Technical' 'Social' 'Others' 'Technical' 'Others'\n",
      " 'Social' 'Technical' 'Others' 'Social' 'Technical' 'Others' 'Others'\n",
      " 'Technical' 'Others' 'Others' 'Social' 'Others' 'Technical' 'Technical'\n",
      " 'Technical' 'Social' 'Social' 'Technical' 'Social' 'Others' 'Technical'\n",
      " 'Technical' 'Others' 'Social' 'Technical' 'Social' 'Technical'\n",
      " 'Technical' 'Others' 'Others' 'Others' 'Others' 'Others' 'Others'\n",
      " 'Social' 'Social' 'Others' 'Social' 'Others' 'Others' 'Others'\n",
      " 'Technical' 'Social' 'Social' 'Social' 'Social' 'Technical' 'Others'\n",
      " 'Social' 'Technical' 'Technical' 'Technical' 'Technical' 'Others'\n",
      " 'Social' 'Social' 'Technical' 'Others' 'Social' 'Technical' 'Social'\n",
      " 'Social' 'Others' 'Social' 'Social' 'Others' 'Others' 'Technical'\n",
      " 'Others' 'Technical' 'Social' 'Social' 'Others' 'Others' 'Social'\n",
      " 'Others' 'Social' 'Social' 'Others' 'Technical' 'Others' 'Others'\n",
      " 'Social' 'Social' 'Technical' 'Social' 'Technical' 'Social' 'Others'\n",
      " 'Others' 'Others' 'Social' 'Others' 'Others' 'Social' 'Technical'\n",
      " 'Others' 'Technical' 'Technical' 'Social' 'Social' 'Technical'\n",
      " 'Technical' 'Others' 'Technical' 'Technical' 'Technical' 'Technical'\n",
      " 'Social' 'Social' 'Technical' 'Others' 'Others' 'Others' 'Social'\n",
      " 'Social' 'Others' 'Technical' 'Social' 'Technical' 'Social' 'Technical'\n",
      " 'Technical' 'Social' 'Social' 'Technical' 'Social' 'Social' 'Technical'\n",
      " 'Others' 'Social' 'Others' 'Technical' 'Others' 'Technical' 'Technical'\n",
      " 'Social' 'Technical' 'Others' 'Social' 'Social' 'Technical' 'Technical'\n",
      " 'Technical' 'Others' 'Technical' 'Technical' 'Social' 'Others' 'Social'\n",
      " 'Technical' 'Others' 'Others' 'Technical' 'Social' 'Technical'\n",
      " 'Technical' 'Social' 'Technical' 'Technical' 'Social' 'Others' 'Others'\n",
      " 'Others' 'Others' 'Technical' 'Others' 'Social' 'Others' 'Technical'\n",
      " 'Social' 'Technical']\n"
     ]
    },
    {
     "data": {
      "text/html": [
       "<div>\n",
       "<style scoped>\n",
       "    .dataframe tbody tr th:only-of-type {\n",
       "        vertical-align: middle;\n",
       "    }\n",
       "\n",
       "    .dataframe tbody tr th {\n",
       "        vertical-align: top;\n",
       "    }\n",
       "\n",
       "    .dataframe thead th {\n",
       "        text-align: right;\n",
       "    }\n",
       "</style>\n",
       "<table border=\"1\" class=\"dataframe\">\n",
       "  <thead>\n",
       "    <tr style=\"text-align: right;\">\n",
       "      <th></th>\n",
       "      <th>event_name</th>\n",
       "      <th>Date</th>\n",
       "      <th>nbr_participants</th>\n",
       "      <th>note</th>\n",
       "      <th>price</th>\n",
       "      <th>profit</th>\n",
       "      <th>Type</th>\n",
       "      <th>Username</th>\n",
       "    </tr>\n",
       "  </thead>\n",
       "  <tbody>\n",
       "    <tr>\n",
       "      <th>0</th>\n",
       "      <td>Braun, Lynch and Gorczany</td>\n",
       "      <td>11/28/2020</td>\n",
       "      <td>63</td>\n",
       "      <td>2</td>\n",
       "      <td>30</td>\n",
       "      <td>7839</td>\n",
       "      <td>Others</td>\n",
       "      <td>Alpha</td>\n",
       "    </tr>\n",
       "    <tr>\n",
       "      <th>1</th>\n",
       "      <td>Schaefer, Bosco and Herman</td>\n",
       "      <td>1/15/2021</td>\n",
       "      <td>70</td>\n",
       "      <td>8</td>\n",
       "      <td>32</td>\n",
       "      <td>9885</td>\n",
       "      <td>Social</td>\n",
       "      <td>Sub-Ex</td>\n",
       "    </tr>\n",
       "    <tr>\n",
       "      <th>2</th>\n",
       "      <td>Gulgowski, Mertz and Bruen</td>\n",
       "      <td>11/7/2020</td>\n",
       "      <td>2</td>\n",
       "      <td>7</td>\n",
       "      <td>45</td>\n",
       "      <td>8899</td>\n",
       "      <td>Others</td>\n",
       "      <td>Flexidy</td>\n",
       "    </tr>\n",
       "    <tr>\n",
       "      <th>3</th>\n",
       "      <td>Greenfelder and Sons</td>\n",
       "      <td>6/28/2020</td>\n",
       "      <td>24</td>\n",
       "      <td>2</td>\n",
       "      <td>37</td>\n",
       "      <td>4805</td>\n",
       "      <td>Others</td>\n",
       "      <td>Gembucket</td>\n",
       "    </tr>\n",
       "    <tr>\n",
       "      <th>4</th>\n",
       "      <td>Langosh, Hansen and Wolff</td>\n",
       "      <td>5/9/2019</td>\n",
       "      <td>19</td>\n",
       "      <td>8</td>\n",
       "      <td>38</td>\n",
       "      <td>8152</td>\n",
       "      <td>Social</td>\n",
       "      <td>Tres-Zap</td>\n",
       "    </tr>\n",
       "  </tbody>\n",
       "</table>\n",
       "</div>"
      ],
      "text/plain": [
       "                   event_name       Date   nbr_participants  note  price   \\\n",
       "0   Braun, Lynch and Gorczany  11/28/2020                63     2      30   \n",
       "1  Schaefer, Bosco and Herman   1/15/2021                70     8      32   \n",
       "2  Gulgowski, Mertz and Bruen   11/7/2020                 2     7      45   \n",
       "3        Greenfelder and Sons   6/28/2020                24     2      37   \n",
       "4   Langosh, Hansen and Wolff    5/9/2019                19     8      38   \n",
       "\n",
       "   profit    Type   Username  \n",
       "0    7839  Others      Alpha  \n",
       "1    9885  Social     Sub-Ex  \n",
       "2    8899  Others    Flexidy  \n",
       "3    4805  Others  Gembucket  \n",
       "4    8152  Social   Tres-Zap  "
      ]
     },
     "execution_count": 297,
     "metadata": {},
     "output_type": "execute_result"
    }
   ],
   "source": [
    "import numpy as np\n",
    "import matplotlib.pyplot as plt\n",
    "import pandas as pd\n",
    "import sklearn\n",
    "import random\n",
    "#Importing our event's data\n",
    "data = pd.read_csv(\"events.csv\" ) \n",
    "#X is a 2D axe that contains the number of particpants and note \n",
    "X = data.iloc[:, [ 3, 4]].values\n",
    "#Y Contains our target that we want to do classify based on \"Type\"\n",
    "y = data.iloc[:, 6].values\n",
    "# Preview the first 5 lines of the loaded data \n",
    "print(X)\n",
    "print(y)\n",
    "data.head()\n"
   ]
  },
  {
   "cell_type": "code",
   "execution_count": null,
   "id": "7a905da7",
   "metadata": {},
   "outputs": [],
   "source": [
    "#this function customize our dataset for training our model \n",
    "#I used the randomize method to avoid the over-fitting case \n",
    "def customizeTypes(row):\n",
    "    if row['note'] >random.randint(8, 15) :\n",
    "        val = 'Technical'\n",
    "    elif  row['note'] > random.randint(7, 10) and row['note'] < random.randint(13, 16) :\n",
    "        val = 'Social'\n",
    "    else:\n",
    "        val = 'Others'\n",
    "    return val\n",
    "def customizeparticipants(row):\n",
    "    if row['Type'] == 'Social' :\n",
    "        random.randint(1, 80)\n",
    "        val = random.randint(1, 80)\n",
    "    elif  row['Type'] == 'Technical' :\n",
    "          val = random.randint(75, 120)\n",
    "    else:\n",
    "          val = random.randint(1, 65)\n",
    "    return val\n",
    "\n",
    "data['Type'] = data.apply(customizeTypes, axis=1)\n",
    "data['nbr_participants'] = data.apply(customizeparticipants, axis=1)\n",
    "data.head()"
   ]
  },
  {
   "cell_type": "code",
   "execution_count": 317,
   "id": "860c59d9",
   "metadata": {},
   "outputs": [
    {
     "data": {
      "text/plain": [
       "Text(0, 0.5, 'Type devenement')"
      ]
     },
     "execution_count": 317,
     "metadata": {},
     "output_type": "execute_result"
    },
    {
     "data": {
      "image/png": "[encoded data removed]",
      "text/plain": [
       "<Figure size 432x288 with 1 Axes>"
      ]
     },
     "metadata": {
      "needs_background": "light"
     },
     "output_type": "display_data"
    }
   ],
   "source": [
    "#Data Vizualisation\n",
    "import matplotlib.pyplot as plt\n",
    "fig, ax = plt.subplots()\n",
    "# scatter the sepal_length against the sepal_width\n",
    "ax.scatter(data['nbr_participants'], data['Type'])\n",
    "# set a title and labels\n",
    "ax.set_title('Events Dataset')\n",
    "ax.set_xlabel('Nombre de Participants')\n",
    "ax.set_ylabel('Type d''evenement')"
   ]
  },
  {
   "cell_type": "code",
   "execution_count": 298,
   "id": "6f8263ac",
   "metadata": {},
   "outputs": [],
   "source": [
    "#Encoding Labels for training for n-1 classes\n",
    "from sklearn.preprocessing import LabelEncoder\n",
    "le = LabelEncoder()\n",
    "X[:,0] = le.fit_transform(X[:,0])\n"
   ]
  },
  {
   "cell_type": "code",
   "execution_count": 299,
   "id": "52a71250",
   "metadata": {},
   "outputs": [],
   "source": [
    "#Splitting the Data 80% For Training Models and 20% For For testing models \n",
    "from sklearn.model_selection import train_test_split\n",
    "X_train, X_test, y_train, y_test = train_test_split(X, y, test_size = 0.20, random_state = 0)"
   ]
  },
  {
   "cell_type": "code",
   "execution_count": 300,
   "id": "742b402f",
   "metadata": {},
   "outputs": [],
   "source": [
    "#Transforming and fitting the data for our model\n",
    "from sklearn.preprocessing import StandardScaler\n",
    "sc = StandardScaler()\n",
    "X_train = sc.fit_transform(X_train)\n",
    "X_test = sc.transform(X_test)\n",
    "#from sklearn import preprocessing\n",
    "#le = preprocessing.LabelEncoder()"
   ]
  },
  {
   "cell_type": "code",
   "execution_count": 301,
   "id": "9aa1f64a",
   "metadata": {},
   "outputs": [
    {
     "data": {
      "text/plain": [
       "KNeighborsClassifier()"
      ]
     },
     "execution_count": 301,
     "metadata": {},
     "output_type": "execute_result"
    }
   ],
   "source": [
    "#Classifying with KNN\n",
    "from sklearn.neighbors import KNeighborsClassifier\n",
    "classifier = KNeighborsClassifier(n_neighbors = 5, metric = 'minkowski', p = 2)\n",
    "classifier.fit(X_train, y_train)"
   ]
  },
  {
   "cell_type": "code",
   "execution_count": 302,
   "id": "49773f33",
   "metadata": {},
   "outputs": [],
   "source": [
    "#Testing KNN\n",
    "y_pred = classifier.predict(X_test)"
   ]
  },
  {
   "cell_type": "code",
   "execution_count": 303,
   "id": "1013fee0",
   "metadata": {},
   "outputs": [
    {
     "name": "stdout",
     "output_type": "stream",
     "text": [
      "the accuracy of knn is= 0.87\n"
     ]
    }
   ],
   "source": [
    "from sklearn.metrics import confusion_matrix,accuracy_score\n",
    "cm = confusion_matrix(y_test, y_pred)\n",
    "ac = accuracy_score(y_test,y_pred)\n",
    "print(\"the accuracy of knn is=\",ac)"
   ]
  },
  {
   "cell_type": "code",
   "execution_count": 304,
   "id": "48219804",
   "metadata": {},
   "outputs": [],
   "source": [
    "#Classifying using the Logistique regression\n",
    "from sklearn.linear_model import LogisticRegression\n",
    "reg = LogisticRegression()\n",
    "reg.fit(X_train, y_train)\n",
    "#Testing The Logistique Regression\n",
    "y_pred = reg.predict(X_test)"
   ]
  },
  {
   "cell_type": "code",
   "execution_count": 305,
   "id": "2688f6df",
   "metadata": {},
   "outputs": [
    {
     "name": "stdout",
     "output_type": "stream",
     "text": [
      "the accuracy of Logistique regression is= 0.895\n"
     ]
    }
   ],
   "source": [
    "from sklearn.metrics import confusion_matrix,accuracy_score\n",
    "cm = confusion_matrix(y_test, y_pred)\n",
    "ac = accuracy_score(y_test,y_pred)\n",
    "print(\"the accuracy of Logistique regression is=\",ac)"
   ]
  },
  {
   "cell_type": "code",
   "execution_count": 306,
   "id": "25472d04",
   "metadata": {},
   "outputs": [],
   "source": [
    "#Decision Tree Classifying\n",
    "from sklearn.tree import DecisionTreeClassifier\n",
    "dtc = DecisionTreeClassifier()\n",
    "dtc.fit(X_train, y_train)\n",
    "#Testing the Decision Tree\n",
    "y_pred = dtc.predict(X_test)"
   ]
  },
  {
   "cell_type": "code",
   "execution_count": 307,
   "id": "3e88d085",
   "metadata": {},
   "outputs": [
    {
     "name": "stdout",
     "output_type": "stream",
     "text": [
      "the accuracy of the decision tree is= 0.86\n"
     ]
    }
   ],
   "source": [
    "from sklearn.metrics import confusion_matrix,accuracy_score\n",
    "cm = confusion_matrix(y_test, y_pred)\n",
    "ac = accuracy_score(y_test,y_pred)\n",
    "print(\"the accuracy of the decision tree is=\",ac)"
   ]
  },
  {
   "cell_type": "code",
   "execution_count": 308,
   "id": "aad16d93",
   "metadata": {},
   "outputs": [],
   "source": [
    "#Random forest Classification\n",
    "from sklearn.ensemble import RandomForestClassifier\n",
    "rfc = RandomForestClassifier()\n",
    "rfc.fit(X_train, y_train)\n",
    "#Testing Random Forest\n",
    "y_pred = rfc.predict(X_test)"
   ]
  },
  {
   "cell_type": "code",
   "execution_count": 309,
   "id": "e087a90a",
   "metadata": {},
   "outputs": [
    {
     "name": "stdout",
     "output_type": "stream",
     "text": [
      "the accuracy of the random forest model is= 0.865\n"
     ]
    }
   ],
   "source": [
    "from sklearn.metrics import confusion_matrix,accuracy_score\n",
    "cm = confusion_matrix(y_test, y_pred)\n",
    "ac = accuracy_score(y_test,y_pred)\n",
    "print(\"the accuracy of the random forest model is=\",ac)"
   ]
  },
  {
   "cell_type": "code",
   "execution_count": 310,
   "id": "b1ea708c",
   "metadata": {},
   "outputs": [],
   "source": [
    "#Classifying with SVC\n",
    "from sklearn.svm import SVC\n",
    "svc = SVC()\n",
    "svc.fit(X_train, y_train)\n",
    "#Testing\n",
    "y_pred = svc.predict(X_test)"
   ]
  },
  {
   "cell_type": "code",
   "execution_count": 311,
   "id": "8e5b2b4a",
   "metadata": {},
   "outputs": [
    {
     "name": "stdout",
     "output_type": "stream",
     "text": [
      "the accuracy of the SVC model is= 0.875\n"
     ]
    }
   ],
   "source": [
    "from sklearn.metrics import confusion_matrix,accuracy_score\n",
    "cm = confusion_matrix(y_test, y_pred)\n",
    "ac = accuracy_score(y_test,y_pred)\n",
    "print(\"the accuracy of the SVC model is=\",ac)"
   ]
  },
  {
   "cell_type": "code",
   "execution_count": 318,
   "id": "fc17eaa2",
   "metadata": {},
   "outputs": [],
   "source": [
    "#Classifying with the Naive Bayes Model using Gauss\n",
    "from sklearn.naive_bayes import GaussianNB\n",
    "gnb = GaussianNB()\n",
    "gnb.fit(X_train, y_train)\n",
    "#Testing the Model\n",
    "y_pred = gnb.predict(X_test)"
   ]
  },
  {
   "cell_type": "code",
   "execution_count": 319,
   "id": "2f2c637a",
   "metadata": {},
   "outputs": [
    {
     "name": "stdout",
     "output_type": "stream",
     "text": [
      "the accuracy of the  Naive Bayes model is= 0.88\n"
     ]
    }
   ],
   "source": [
    "from sklearn.metrics import confusion_matrix,accuracy_score\n",
    "cm = confusion_matrix(y_test, y_pred)\n",
    "ac = accuracy_score(y_test,y_pred)\n",
    "print(\"the accuracy of the  Naive Bayes model is=\",ac)"
   ]
  },
  {
   "cell_type": "code",
   "execution_count": null,
   "id": "9393cd3c",
   "metadata": {},
   "outputs": [],
   "source": []
  }
 ],
 "metadata": {
  "kernelspec": {
   "display_name": "Python 3 (ipykernel)",
   "language": "python",
   "name": "python3"
  },
  "language_info": {
   "codemirror_mode": {
    "name": "ipython",
    "version": 3
   },
   "file_extension": ".py",
   "mimetype": "text/x-python",
   "name": "python",
   "nbconvert_exporter": "python",
   "pygments_lexer": "ipython3",
   "version": "3.9.7"
  }
 },
 "nbformat": 4,
 "nbformat_minor": 5
}
